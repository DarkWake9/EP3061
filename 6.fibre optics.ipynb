{
 "cells": [
  {
   "cell_type": "code",
   "execution_count": 1,
   "metadata": {},
   "outputs": [],
   "source": [
    "import numpy as np\n",
    "import matplotlib.pyplot as plt"
   ]
  },
  {
   "cell_type": "code",
   "execution_count": 21,
   "metadata": {},
   "outputs": [],
   "source": [
    "X = np.array([5.8, 7.5, 7.75, 7.85, 7.93, 8, 8.02, 8.06, 8.11, 8.15, 8.5, 9, 9.2, 9.4, 9.5, 9.6, 9.8, 9.9, 9.95, 10, 10.05, 10.1, 10.15, 10.2, 10.22, 10.25, 10.28, 10.3, 10.35, 10.4, 10.45, 10.5, 10.55, 10.6, 10.65, 10.7, 10.75, 10.8, 10.9, 11, 11.1, 11.2, 11.5, 11.75, 12, 12.25, 12.5, 13, 13.5, 15.1])\n",
    "i = np.array([.0001, .0002, .0003, .0004, .0005, .0006, .0007, .0008, .0009, .0011, .005, .0236, .0447, .1010, .3, .8, 1.7, 3.1, 5, 6.3, 7.5, 8.4, 9.3, 10, 10.7, 10.9, 11.1, 11.2, 11.3, 11.2, 11, 10.5, 9.8, 8.9, 8, 7.1, 6, 4.9, 3.8, 2.2, 1, 0.4, 0.1, 0.018, .009, .003, .0009, .0004, .0002, .0001])"
   ]
  },
  {
   "cell_type": "code",
   "execution_count": 39,
   "metadata": {},
   "outputs": [
    {
     "data": {
      "image/png": "[encoded data removed]",
      "text/plain": [
       "<Figure size 864x540 with 1 Axes>"
      ]
     },
     "metadata": {
      "needs_background": "light"
     },
     "output_type": "display_data"
    }
   ],
   "source": [
    "plt.figure(figsize=(12, 7.5))\n",
    "plt.plot(X, i, 'o')\n",
    "plt.xlabel('X (mm)')\n",
    "plt.ylabel('i (mA)')\n",
    "plt.grid(True, which='both')\n",
    "plt.xticks(np.arange(5, 16, 1))\n",
    "plt.yticks(np.arange(0, 12, 0.5))\n",
    "plt.savefig('6.fibre optics.pdf', facecolor='w')\n",
    "plt.show()"
   ]
  },
  {
   "cell_type": "code",
   "execution_count": 24,
   "metadata": {},
   "outputs": [
    {
     "data": {
      "text/plain": [
       "0.5650000000000001"
      ]
     },
     "execution_count": 24,
     "metadata": {},
     "output_type": "execute_result"
    }
   ],
   "source": [
    "11.3*0.05"
   ]
  },
  {
   "cell_type": "code",
   "execution_count": 25,
   "metadata": {},
   "outputs": [
    {
     "data": {
      "text/plain": [
       "1.5255000000000003"
      ]
     },
     "execution_count": 25,
     "metadata": {},
     "output_type": "execute_result"
    }
   ],
   "source": [
    "0.135*11.3"
   ]
  },
  {
   "cell_type": "code",
   "execution_count": 31,
   "metadata": {},
   "outputs": [
    {
     "data": {
      "text/plain": [
       "0.4561055020988722"
      ]
     },
     "execution_count": 31,
     "metadata": {},
     "output_type": "execute_result"
    }
   ],
   "source": [
    "np.rad2deg(np.arctan(1.6/1.92)*0.01*(1/1.6 + 1/1.92))"
   ]
  },
  {
   "cell_type": "code",
   "execution_count": 33,
   "metadata": {},
   "outputs": [
    {
     "data": {
      "text/plain": [
       "0.007960458671435092"
      ]
     },
     "execution_count": 33,
     "metadata": {},
     "output_type": "execute_result"
    }
   ],
   "source": [
    "np.sin(np.arctan(1.6/1.92)*0.01*(1/1.6 + 1/1.92))"
   ]
  },
  {
   "cell_type": "code",
   "execution_count": 37,
   "metadata": {},
   "outputs": [
    {
     "data": {
      "text/plain": [
       "0.30216845370405643"
      ]
     },
     "execution_count": 37,
     "metadata": {},
     "output_type": "execute_result"
    }
   ],
   "source": [
    "0.007*2*np.pi*4500/655"
   ]
  },
  {
   "cell_type": "code",
   "execution_count": null,
   "metadata": {},
   "outputs": [],
   "source": []
  }
 ],
 "metadata": {
  "kernelspec": {
   "display_name": "Python 3",
   "language": "python",
   "name": "python3"
  },
  "language_info": {
   "codemirror_mode": {
    "name": "ipython",
    "version": 3
   },
   "file_extension": ".py",
   "mimetype": "text/x-python",
   "name": "python",
   "nbconvert_exporter": "python",
   "pygments_lexer": "ipython3",
   "version": "3.10.6"
  },
  "orig_nbformat": 4,
  "vscode": {
   "interpreter": {
    "hash": "916dbcbb3f70747c44a77c7bcd40155683ae19c65e1c03b4aa3499c5328201f1"
   }
  }
 },
 "nbformat": 4,
 "nbformat_minor": 2
}
