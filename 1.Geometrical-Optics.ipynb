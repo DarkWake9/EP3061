{
 "cells": [
  {
   "cell_type": "code",
   "execution_count": 1,
   "metadata": {},
   "outputs": [],
   "source": [
    "import numpy as np\n",
    "import matplotlib.pyplot as plt"
   ]
  },
  {
   "cell_type": "code",
   "execution_count": 33,
   "metadata": {},
   "outputs": [
    {
     "name": "stdout",
     "output_type": "stream",
     "text": [
      "[1.55 2.1  1.05 2.65 3.3 ]\n",
      "[1.85 2.4  1.75 2.95 3.6 ]\n",
      "[15.83333333 15.          2.5        14.16666667 15.        ]\n",
      "0.04128170735474177\n"
     ]
    }
   ],
   "source": [
    "#plano concave\n",
    "\n",
    "r1 = np.array([3.1, 4.2, 2.1, 5.3, 6.6])/2\n",
    "\n",
    "r2 = np.array([3.7, 4.8, 3.5, 5.9, 7.2])/2\n",
    "\n",
    "z = np.array([20, 30, 15, 40, 50])\n",
    "\n",
    "y = np.array([15, 25, 10, 35, 45])\n",
    "\n",
    "print(r1)\n",
    "print(r2)\n",
    "\n",
    "f = r2*(z - y)/(r2-r1) - y\n",
    "\n",
    "print(f)\n",
    "\n",
    "delta = 0.1\n",
    "\n",
    "err_f = f*delta*(2/(2*r2 + r1 + z + y))\n",
    "print(err_f.mean())"
   ]
  },
  {
   "cell_type": "code",
   "execution_count": 80,
   "metadata": {},
   "outputs": [
    {
     "name": "stdout",
     "output_type": "stream",
     "text": [
      "0.12108839766868457\n"
     ]
    }
   ],
   "source": [
    "# convex mirror\n",
    "\n",
    "r1 = np.array([1.75, 2.05, 2.4, 2.65, 2.75])\n",
    "\n",
    "r2 = np.array([2.05, 2.4, 2.65, 2.75, 3])\n",
    "\n",
    "y = np.array([10, 15, 20, 25, 30])\n",
    "\n",
    "z = np.array([15, 20, 25, 30, 35])\n",
    "\n",
    "r1 = r1[::2]\n",
    "\n",
    "r2 = r2[::2]\n",
    "\n",
    "y = y[::2]\n",
    "\n",
    "z = z[::2]\n",
    "\n",
    "f = r2*(z - y)/(r2-r1) - y\n",
    "\n",
    "err_f = f*delta*(2/(2*r2 + r1 + z + y))\n",
    "print(err_f.mean())"
   ]
  },
  {
   "cell_type": "code",
   "execution_count": 81,
   "metadata": {},
   "outputs": [
    {
     "data": {
      "text/plain": [
       "33.92"
      ]
     },
     "execution_count": 81,
     "metadata": {},
     "output_type": "execute_result"
    }
   ],
   "source": [
    "#Concave mirror\n",
    "\n",
    "f = [34.5, 32, 34.5, 34.1, 34.5]\n",
    "\n",
    "np.mean(f)"
   ]
  },
  {
   "cell_type": "code",
   "execution_count": 91,
   "metadata": {},
   "outputs": [
    {
     "name": "stdout",
     "output_type": "stream",
     "text": [
      "[18.5 25.  20.  30.  35. ]\n",
      "[71.3 37.5 57.8 30.5 26.9]\n",
      "[14.7 15.  14.9 15.1 15.2]\n",
      "14.98\n",
      "0.2000523178652384\n"
     ]
    }
   ],
   "source": [
    "#convex lens\n",
    "\n",
    "o = 15\n",
    "\n",
    "l = np.array([33.5, 40, 35, 45, 50])\n",
    "\n",
    "i = np.array([104.8, 77.5, 92.8, 75.5, 76.9])\n",
    "\n",
    "u = l - o\n",
    "\n",
    "v = i - l\n",
    "\n",
    "f = np.round(u*v/(u+v), 1)\n",
    "\n",
    "\n",
    "print(u)\n",
    "\n",
    "print(v)\n",
    "print(f)\n",
    "\n",
    "print(f.mean())\n",
    "\n",
    "err_f = f*delta*2*(1/u + 1/v)\n",
    "\n",
    "print(err_f.mean())"
   ]
  },
  {
   "cell_type": "code",
   "execution_count": 123,
   "metadata": {},
   "outputs": [
    {
     "name": "stdout",
     "output_type": "stream",
     "text": [
      "[31.8 50.  52.  27.  55. ]\n",
      "[28.7 20.6 15.5 56.4 11.5]\n",
      "[15.1 14.6 11.9 18.3  9.5]\n",
      "13.88\n",
      "0.199974448680706\n"
     ]
    }
   ],
   "source": [
    "o = np.array([45, 30, 30, 45, 30])\n",
    "\n",
    "l = np.array([76.8, 80, 82, 72, 85])\n",
    "\n",
    "i = np.array([105.5, 100.6, 97.5, 128.4, 96.5])\n",
    "\n",
    "u = l - o\n",
    "\n",
    "v = i - l\n",
    "\n",
    "f = np.round((u*v)/(u+v), 1)\n",
    "\n",
    "print(u)\n",
    "\n",
    "print(v)\n",
    "print(f)\n",
    "\n",
    "print(f.mean())\n",
    "\n",
    "err_f = f*delta*2*(1/u + 1/v)\n",
    "\n",
    "print(err_f.mean())"
   ]
  },
  {
   "cell_type": "code",
   "execution_count": 128,
   "metadata": {},
   "outputs": [
    {
     "data": {
      "text/plain": [
       "0.4"
      ]
     },
     "execution_count": 128,
     "metadata": {},
     "output_type": "execute_result"
    }
   ],
   "source": [
    "f = np.array([30.5, 30.1, 30.4, 29.9, 30.3])/2\n",
    "\n",
    "err_f = f*delta*4/f\n",
    "\n",
    "err_f.mean()"
   ]
  },
  {
   "cell_type": "code",
   "execution_count": 132,
   "metadata": {},
   "outputs": [
    {
     "name": "stdout",
     "output_type": "stream",
     "text": [
      "0.038006708365755905\n"
     ]
    }
   ],
   "source": [
    "s = np.array([92.2, 104.2,  87.5, 90.7, 93 ])\n",
    "m = np.array([63.4, 74.3, 58.8, 61.5, 65])\n",
    "\n",
    "f = (s - m)/2\n",
    "\n",
    "err_f = f*delta*(1/s + 1/m)\n",
    "print(err_f.mean())"
   ]
  },
  {
   "cell_type": "code",
   "execution_count": null,
   "metadata": {},
   "outputs": [],
   "source": []
  }
 ],
 "metadata": {
  "kernelspec": {
   "display_name": "Python 3",
   "language": "python",
   "name": "python3"
  },
  "language_info": {
   "codemirror_mode": {
    "name": "ipython",
    "version": 3
   },
   "file_extension": ".py",
   "mimetype": "text/x-python",
   "name": "python",
   "nbconvert_exporter": "python",
   "pygments_lexer": "ipython3",
   "version": "3.10.6"
  },
  "orig_nbformat": 4,
  "vscode": {
   "interpreter": {
    "hash": "916dbcbb3f70747c44a77c7bcd40155683ae19c65e1c03b4aa3499c5328201f1"
   }
  }
 },
 "nbformat": 4,
 "nbformat_minor": 2
}
